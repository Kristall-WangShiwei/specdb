{
 "cells": [
  {
   "cell_type": "markdown",
   "metadata": {},
   "source": [
    "# Ingesting Private Datasets (v1.4)"
   ]
  },
  {
   "cell_type": "code",
   "execution_count": 14,
   "metadata": {
    "collapsed": false
   },
   "outputs": [],
   "source": [
    "# imports\n",
    "import h5py\n",
    "import specdb\n",
    "\n",
    "from astropy.table import Table\n",
    "from linetools import utils as ltu\n",
    "\n",
    "from specdb.build import privatedb as pbuild\n",
    "\n",
    "\n",
    "from igmspec.igmspec import IgmSpec"
   ]
  },
  {
   "cell_type": "markdown",
   "metadata": {},
   "source": [
    "## Test on Single Folder"
   ]
  },
  {
   "cell_type": "code",
   "execution_count": 3,
   "metadata": {
    "collapsed": true
   },
   "outputs": [],
   "source": [
    "tree = specdb.__path__[0]+'/build/tests/files'\n",
    "#os.getenv('DROPBOX_DIR')+'/QSOPairs/data/MMT_redux/'"
   ]
  },
  {
   "cell_type": "code",
   "execution_count": 4,
   "metadata": {
    "collapsed": false
   },
   "outputs": [
    {
     "data": {
      "text/plain": [
       "2"
      ]
     },
     "execution_count": 4,
     "metadata": {},
     "output_type": "execute_result"
    }
   ],
   "source": [
    "reload(pbuild)\n",
    "flux_files = pbuild.grab_files(tree)\n",
    "len(flux_files)"
   ]
  },
  {
   "cell_type": "code",
   "execution_count": 5,
   "metadata": {
    "collapsed": false
   },
   "outputs": [
    {
     "data": {
      "text/plain": [
       "[u'/Users/xavier/local/Python/specdb/specdb/build/tests/files/./SDSSJ001605.89+005654.3_b800_F.fits.gz',\n",
       " u'/Users/xavier/local/Python/specdb/specdb/build/tests/files/./SDSSJ001607.27+005653.1_b800_F.fits.gz']"
      ]
     },
     "execution_count": 5,
     "metadata": {},
     "output_type": "execute_result"
    }
   ],
   "source": [
    "flux_files[:5]"
   ]
  },
  {
   "cell_type": "markdown",
   "metadata": {},
   "source": [
    "## Directory Tree"
   ]
  },
  {
   "cell_type": "code",
   "execution_count": 6,
   "metadata": {
    "collapsed": true
   },
   "outputs": [],
   "source": [
    "tree2 = os.getenv('DROPBOX_DIR')+'/QSOPairs/data/'"
   ]
  },
  {
   "cell_type": "code",
   "execution_count": 7,
   "metadata": {
    "collapsed": false
   },
   "outputs": [
    {
     "data": {
      "text/plain": [
       "22841"
      ]
     },
     "execution_count": 7,
     "metadata": {},
     "output_type": "execute_result"
    }
   ],
   "source": [
    "reload(pbuild)\n",
    "mflux_files = pbuild.grab_files(tree2)\n",
    "len(mflux_files)"
   ]
  },
  {
   "cell_type": "code",
   "execution_count": 8,
   "metadata": {
    "collapsed": false
   },
   "outputs": [
    {
     "data": {
      "text/plain": [
       "[u'/u/xavier/Dropbox//QSOPairs/data/BOSS/BOSSLyaDR9_cat.fits.gz',\n",
       " u'/u/xavier/Dropbox//QSOPairs/data/BOSS/BOSSLyaDR9_cat.fits.gz',\n",
       " u'/u/xavier/Dropbox//QSOPairs/data/ESI_redux/SDSSJ001813.89+142455.6_F.fits.gz',\n",
       " u'/u/xavier/Dropbox//QSOPairs/data/ESI_redux/SDSSJ002801.18-104933.9_F.fits.gz',\n",
       " u'/u/xavier/Dropbox//QSOPairs/data/ESI_redux/SDSSJ002802.61-104936.1_F.fits.gz']"
      ]
     },
     "execution_count": 8,
     "metadata": {},
     "output_type": "execute_result"
    }
   ],
   "source": [
    "mflux_files[:5]"
   ]
  },
  {
   "cell_type": "markdown",
   "metadata": {},
   "source": [
    "## Meta"
   ]
  },
  {
   "cell_type": "code",
   "execution_count": 10,
   "metadata": {
    "collapsed": false
   },
   "outputs": [
    {
     "name": "stdout",
     "output_type": "stream",
     "text": [
      "Using /raid/IGMSPEC_DB/IGMspec_DB_v01.hdf5 for the catalog file\n",
      "Using /raid/IGMSPEC_DB/IGMspec_DB_v01.hdf5 for the DB file\n",
      "Available surveys: [u'BOSS_DR12', u'GGG', u'HD-LLS_DR1', u'KODIAQ_DR1', u'SDSS_DR7']\n"
     ]
    }
   ],
   "source": [
    "igmsp = IgmSpec()"
   ]
  },
  {
   "cell_type": "code",
   "execution_count": 11,
   "metadata": {
    "collapsed": true
   },
   "outputs": [],
   "source": [
    "ztbl = Table(igmsp.idb.hdf['quasars'].value)"
   ]
  },
  {
   "cell_type": "code",
   "execution_count": null,
   "metadata": {
    "collapsed": true
   },
   "outputs": [],
   "source": []
  },
  {
   "cell_type": "code",
   "execution_count": 12,
   "metadata": {
    "collapsed": false
   },
   "outputs": [
    {
     "name": "stdout",
     "output_type": "stream",
     "text": [
      "Using /raid/IGMSPEC_DB/IGMspec_DB_v01.hdf5 for the catalog file\n",
      "Using /raid/IGMSPEC_DB/IGMspec_DB_v01.hdf5 for the DB file\n",
      "Available surveys: [u'BOSS_DR12', u'GGG', u'HD-LLS_DR1', u'KODIAQ_DR1', u'SDSS_DR7']\n"
     ]
    },
    {
     "name": "stderr",
     "output_type": "stream",
     "text": [
      "/Users/xavier/local/Python/specdb/specdb/build/privatedb.py:258: UserWarning: EPOCH not defined.  Filling with 2000.\n",
      "  warnings.warn(\"EPOCH not defined.  Filling with 2000.\")\n",
      "/Users/xavier/local/Python/specdb/specdb/build/privatedb.py:267: UserWarning: Meta Column R not defined.  Filling with DUMMY\n",
      "  warnings.warn(\"Meta Column {:s} not defined.  Filling with DUMMY\".format(clm))\n",
      "/Users/xavier/local/Python/specdb/specdb/build/privatedb.py:267: UserWarning: Meta Column DATE-OBS not defined.  Filling with DUMMY\n",
      "  warnings.warn(\"Meta Column {:s} not defined.  Filling with DUMMY\".format(clm))\n",
      "/Users/xavier/local/Python/specdb/specdb/build/privatedb.py:267: UserWarning: Meta Column SURVEY_ID not defined.  Filling with DUMMY\n",
      "  warnings.warn(\"Meta Column {:s} not defined.  Filling with DUMMY\".format(clm))\n",
      "/Users/xavier/local/Python/specdb/specdb/build/privatedb.py:267: UserWarning: Meta Column GRATING not defined.  Filling with DUMMY\n",
      "  warnings.warn(\"Meta Column {:s} not defined.  Filling with DUMMY\".format(clm))\n",
      "/Users/xavier/local/Python/specdb/specdb/build/privatedb.py:267: UserWarning: Meta Column TELESCOPE not defined.  Filling with DUMMY\n",
      "  warnings.warn(\"Meta Column {:s} not defined.  Filling with DUMMY\".format(clm))\n"
     ]
    }
   ],
   "source": [
    "reload(pbuild)\n",
    "meta = pbuild.mk_meta(flux_files, ztbl, fname=True, skip_badz=True, mdict=dict(INSTR='MMT'))#,debug=True)"
   ]
  },
  {
   "cell_type": "code",
   "execution_count": 13,
   "metadata": {
    "collapsed": false
   },
   "outputs": [
    {
     "data": {
      "text/html": [
       "&lt;Table length=2&gt;\n",
       "<table id=\"table4733721616\" class=\"table-striped table-bordered table-condensed\">\n",
       "<thead><tr><th>sig_zem</th><th>flag_zem</th><th>flag_survey</th><th>zem</th><th>RA</th><th>DEC</th><th>IGM_ID</th><th>STYPE</th><th>SPEC_FILE</th><th>INSTR</th><th>EPOCH</th><th>R</th><th>DATE-OBS</th><th>SURVEY_ID</th><th>GRATING</th><th>TELESCOPE</th></tr></thead>\n",
       "<thead><tr><th>float64</th><th>str9</th><th>int64</th><th>float64</th><th>float64</th><th>float64</th><th>int64</th><th>str3</th><th>unicode99</th><th>str3</th><th>float64</th><th>unicode5</th><th>unicode8</th><th>unicode5</th><th>unicode5</th><th>unicode5</th></tr></thead>\n",
       "<tr><td>0.0</td><td>BOSS_PCA</td><td>1</td><td>2.39499998093</td><td>4.02454166667</td><td>0.948416666667</td><td>4635</td><td>QSO</td><td>/Users/xavier/local/Python/specdb/specdb/build/tests/files/./SDSSJ001605.89+005654.3_b800_F.fits.gz</td><td>MMT</td><td>2000.0</td><td>DUMMY</td><td>9999-1-1</td><td>DUMMY</td><td>DUMMY</td><td>DUMMY</td></tr>\n",
       "<tr><td>0.0</td><td>BOSS_PCA</td><td>1</td><td>2.59719920158</td><td>4.03029166667</td><td>0.948083333333</td><td>4644</td><td>QSO</td><td>/Users/xavier/local/Python/specdb/specdb/build/tests/files/./SDSSJ001607.27+005653.1_b800_F.fits.gz</td><td>MMT</td><td>2000.0</td><td>DUMMY</td><td>9999-1-1</td><td>DUMMY</td><td>DUMMY</td><td>DUMMY</td></tr>\n",
       "</table>"
      ],
      "text/plain": [
       "<Table length=2>\n",
       "sig_zem flag_zem flag_survey      zem      ... SURVEY_ID GRATING  TELESCOPE\n",
       "float64   str9      int64       float64    ...  unicode5 unicode5  unicode5\n",
       "------- -------- ----------- ------------- ... --------- -------- ---------\n",
       "    0.0 BOSS_PCA           1 2.39499998093 ...     DUMMY    DUMMY     DUMMY\n",
       "    0.0 BOSS_PCA           1 2.59719920158 ...     DUMMY    DUMMY     DUMMY"
      ]
     },
     "execution_count": 13,
     "metadata": {},
     "output_type": "execute_result"
    }
   ],
   "source": [
    "meta[0:3]"
   ]
  },
  {
   "cell_type": "markdown",
   "metadata": {},
   "source": [
    "## Spectra"
   ]
  },
  {
   "cell_type": "code",
   "execution_count": 14,
   "metadata": {
    "collapsed": false
   },
   "outputs": [],
   "source": [
    "hdf = h5py.File('tmp.hdf5','w')"
   ]
  },
  {
   "cell_type": "code",
   "execution_count": 15,
   "metadata": {
    "collapsed": false
   },
   "outputs": [
    {
     "name": "stdout",
     "output_type": "stream",
     "text": [
      "Adding test survey to DB\n"
     ]
    },
    {
     "name": "stderr",
     "output_type": "stream",
     "text": [
      "WARNING: ErfaWarning: ERFA function \"dtf2d\" yielded 2 of \"dubious year (Note 6)\" [astropy._erfa.core]\n",
      "/Users/xavier/local/Python/specdb/specdb/build/utils.py:220: UserWarning: unicode in column SPEC_FILE.  Will convert to str for hdf5\n",
      "  warnings.warn(\"unicode in column {:s}.  Will convert to str for hdf5\".format(key))\n",
      "/Users/xavier/local/Python/specdb/specdb/build/utils.py:220: UserWarning: unicode in column R.  Will convert to str for hdf5\n",
      "  warnings.warn(\"unicode in column {:s}.  Will convert to str for hdf5\".format(key))\n",
      "/Users/xavier/local/Python/specdb/specdb/build/utils.py:220: UserWarning: unicode in column DATE-OBS.  Will convert to str for hdf5\n",
      "  warnings.warn(\"unicode in column {:s}.  Will convert to str for hdf5\".format(key))\n",
      "/Users/xavier/local/Python/specdb/specdb/build/utils.py:220: UserWarning: unicode in column SURVEY_ID.  Will convert to str for hdf5\n",
      "  warnings.warn(\"unicode in column {:s}.  Will convert to str for hdf5\".format(key))\n",
      "/Users/xavier/local/Python/specdb/specdb/build/utils.py:220: UserWarning: unicode in column GRATING.  Will convert to str for hdf5\n",
      "  warnings.warn(\"unicode in column {:s}.  Will convert to str for hdf5\".format(key))\n",
      "/Users/xavier/local/Python/specdb/specdb/build/utils.py:220: UserWarning: unicode in column TELESCOPE.  Will convert to str for hdf5\n",
      "  warnings.warn(\"unicode in column {:s}.  Will convert to str for hdf5\".format(key))\n"
     ]
    }
   ],
   "source": [
    "reload(pbuild)\n",
    "pbuild.ingest_spectra(hdf, 'test', meta)"
   ]
  },
  {
   "cell_type": "code",
   "execution_count": 16,
   "metadata": {
    "collapsed": true
   },
   "outputs": [],
   "source": [
    "hdf.close()"
   ]
  },
  {
   "cell_type": "markdown",
   "metadata": {
    "collapsed": true
   },
   "source": [
    "## All in One"
   ]
  },
  {
   "cell_type": "code",
   "execution_count": 17,
   "metadata": {
    "collapsed": false
   },
   "outputs": [
    {
     "name": "stdout",
     "output_type": "stream",
     "text": [
      "Working on tree: /Users/xavier/local/Python/specdb/specdb/build/tests/files\n",
      "Using /raid/IGMSPEC_DB/IGMspec_DB_v01.hdf5 for the catalog file\n",
      "Using /raid/IGMSPEC_DB/IGMspec_DB_v01.hdf5 for the DB file\n",
      "Available surveys: [u'BOSS_DR12', u'GGG', u'HD-LLS_DR1', u'KODIAQ_DR1', u'SDSS_DR7']\n",
      "Adding test survey to DB\n",
      "Wrote tmp.hdf5 DB file\n"
     ]
    }
   ],
   "source": [
    "reload(pbuild)\n",
    "pbuild.mk_db([tree], ['test'], 'tmp.hdf5', ztbl, fname=True, skip_badz=True, mdict=dict(INSTR='MMT'))"
   ]
  },
  {
   "cell_type": "markdown",
   "metadata": {
    "collapsed": true
   },
   "source": [
    "## JSON files for meta table"
   ]
  },
  {
   "cell_type": "code",
   "execution_count": 8,
   "metadata": {
    "collapsed": true
   },
   "outputs": [],
   "source": [
    "parse_head = {'DATE-OBS':'DATE', 'TELESCOPE':'TELESCOP','INSTR':'INSTRUME', 'R': True}\n",
    "mdict = dict(GRATING='ALL', R=8000.)"
   ]
  },
  {
   "cell_type": "code",
   "execution_count": 9,
   "metadata": {
    "collapsed": true
   },
   "outputs": [],
   "source": [
    "db_dict = dict(parse_head=parse_head, meta_dict=mdict, maxpix=60000)"
   ]
  },
  {
   "cell_type": "code",
   "execution_count": 10,
   "metadata": {
    "collapsed": true
   },
   "outputs": [],
   "source": [
    "jdict = ltu.jsonify(db_dict)"
   ]
  },
  {
   "cell_type": "code",
   "execution_count": 12,
   "metadata": {
    "collapsed": false
   },
   "outputs": [],
   "source": [
    "ltu.savejson('tst.json', jdict, easy_to_read=True)"
   ]
  },
  {
   "cell_type": "markdown",
   "metadata": {},
   "source": [
    "## Running on test suite"
   ]
  },
  {
   "cell_type": "code",
   "execution_count": 13,
   "metadata": {
    "collapsed": false
   },
   "outputs": [
    {
     "name": "stdout",
     "output_type": "stream",
     "text": [
      "Using /u/xavier/local/Python/igmspec/DB/IGMspec_DB_v02.hdf5 for the catalog file\n",
      "Using /u/xavier/local/Python/igmspec/DB/IGMspec_DB_v02.hdf5 for the DB file\n",
      "Available surveys: [u'BOSS_DR12', u'HSTQSO', u'SDSS_DR7', u'KODIAQ_DR1', u'MUSoDLA', u'HD-LLS_DR1', u'2QZ', u'ESI_DLA', u'HDLA100', u'GGG', u'COS-Halos', u'HST_z2', u'COS-Dwarfs', u'XQ-100']\n",
      "Database is igmspec\n",
      "Created on 2016-Oct-25\n"
     ]
    }
   ],
   "source": [
    "igmsp = IgmSpec()"
   ]
  },
  {
   "cell_type": "code",
   "execution_count": 15,
   "metadata": {
    "collapsed": true
   },
   "outputs": [],
   "source": [
    "ztbl = Table(igmsp.idb.hdf['quasars'].value)"
   ]
  },
  {
   "cell_type": "code",
   "execution_count": 22,
   "metadata": {
    "collapsed": false
   },
   "outputs": [
    {
     "ename": "IOError",
     "evalue": "Unable to create file (Unable to truncate a file which is already open)",
     "output_type": "error",
     "traceback": [
      "\u001b[0;31m---------------------------------------------------------------------------\u001b[0m",
      "\u001b[0;31mIOError\u001b[0m                                   Traceback (most recent call last)",
      "\u001b[0;32m<ipython-input-22-66381692466f>\u001b[0m in \u001b[0;36m<module>\u001b[0;34m()\u001b[0m\n\u001b[1;32m      2\u001b[0m \u001b[0mtree\u001b[0m \u001b[0;34m=\u001b[0m \u001b[0mspecdb\u001b[0m\u001b[0;34m.\u001b[0m\u001b[0m__path__\u001b[0m\u001b[0;34m[\u001b[0m\u001b[0;36m0\u001b[0m\u001b[0;34m]\u001b[0m\u001b[0;34m+\u001b[0m\u001b[0;34m'/data/privateDB'\u001b[0m\u001b[0;34m\u001b[0m\u001b[0m\n\u001b[1;32m      3\u001b[0m \u001b[0;31m#pbuild.mk_db.hdf.close()\u001b[0m\u001b[0;34m\u001b[0m\u001b[0;34m\u001b[0m\u001b[0m\n\u001b[0;32m----> 4\u001b[0;31m \u001b[0mpbuild\u001b[0m\u001b[0;34m.\u001b[0m\u001b[0mmk_db\u001b[0m\u001b[0;34m(\u001b[0m\u001b[0mtree\u001b[0m\u001b[0;34m,\u001b[0m \u001b[0;34m'tst_db.hdf5'\u001b[0m\u001b[0;34m,\u001b[0m \u001b[0mztbl\u001b[0m\u001b[0;34m)\u001b[0m\u001b[0;34m\u001b[0m\u001b[0m\n\u001b[0m",
      "\u001b[0;32m/Users/xavier/local/Python/specdb/specdb/build/privatedb.pyc\u001b[0m in \u001b[0;36mmk_db\u001b[0;34m(tree, outfil, ztbl, **kwargs)\u001b[0m\n\u001b[1;32m    456\u001b[0m     \u001b[0mbranches\u001b[0m\u001b[0;34m.\u001b[0m\u001b[0msort\u001b[0m\u001b[0;34m(\u001b[0m\u001b[0;34m)\u001b[0m\u001b[0;34m\u001b[0m\u001b[0m\n\u001b[1;32m    457\u001b[0m     \u001b[0;31m# HDF5 file\u001b[0m\u001b[0;34m\u001b[0m\u001b[0;34m\u001b[0m\u001b[0m\n\u001b[0;32m--> 458\u001b[0;31m     \u001b[0mhdf\u001b[0m \u001b[0;34m=\u001b[0m \u001b[0mh5py\u001b[0m\u001b[0;34m.\u001b[0m\u001b[0mFile\u001b[0m\u001b[0;34m(\u001b[0m\u001b[0moutfil\u001b[0m\u001b[0;34m,\u001b[0m\u001b[0;34m'w'\u001b[0m\u001b[0;34m)\u001b[0m\u001b[0;34m\u001b[0m\u001b[0m\n\u001b[0m\u001b[1;32m    459\u001b[0m \u001b[0;34m\u001b[0m\u001b[0m\n\u001b[1;32m    460\u001b[0m     \u001b[0;31m# Defs\u001b[0m\u001b[0;34m\u001b[0m\u001b[0;34m\u001b[0m\u001b[0m\n",
      "\u001b[0;32m/Users/xavier/anaconda/lib/python2.7/site-packages/h5py/_hl/files.pyc\u001b[0m in \u001b[0;36m__init__\u001b[0;34m(self, name, mode, driver, libver, userblock_size, swmr, **kwds)\u001b[0m\n\u001b[1;32m    258\u001b[0m \u001b[0;34m\u001b[0m\u001b[0m\n\u001b[1;32m    259\u001b[0m                 \u001b[0mfapl\u001b[0m \u001b[0;34m=\u001b[0m \u001b[0mmake_fapl\u001b[0m\u001b[0;34m(\u001b[0m\u001b[0mdriver\u001b[0m\u001b[0;34m,\u001b[0m \u001b[0mlibver\u001b[0m\u001b[0;34m,\u001b[0m \u001b[0;34m**\u001b[0m\u001b[0mkwds\u001b[0m\u001b[0;34m)\u001b[0m\u001b[0;34m\u001b[0m\u001b[0m\n\u001b[0;32m--> 260\u001b[0;31m                 \u001b[0mfid\u001b[0m \u001b[0;34m=\u001b[0m \u001b[0mmake_fid\u001b[0m\u001b[0;34m(\u001b[0m\u001b[0mname\u001b[0m\u001b[0;34m,\u001b[0m \u001b[0mmode\u001b[0m\u001b[0;34m,\u001b[0m \u001b[0muserblock_size\u001b[0m\u001b[0;34m,\u001b[0m \u001b[0mfapl\u001b[0m\u001b[0;34m,\u001b[0m \u001b[0mswmr\u001b[0m\u001b[0;34m=\u001b[0m\u001b[0mswmr\u001b[0m\u001b[0;34m)\u001b[0m\u001b[0;34m\u001b[0m\u001b[0m\n\u001b[0m\u001b[1;32m    261\u001b[0m \u001b[0;34m\u001b[0m\u001b[0m\n\u001b[1;32m    262\u001b[0m                 \u001b[0;32mif\u001b[0m \u001b[0mswmr_support\u001b[0m\u001b[0;34m:\u001b[0m\u001b[0;34m\u001b[0m\u001b[0m\n",
      "\u001b[0;32m/Users/xavier/anaconda/lib/python2.7/site-packages/h5py/_hl/files.pyc\u001b[0m in \u001b[0;36mmake_fid\u001b[0;34m(name, mode, userblock_size, fapl, fcpl, swmr)\u001b[0m\n\u001b[1;32m     93\u001b[0m         \u001b[0mfid\u001b[0m \u001b[0;34m=\u001b[0m \u001b[0mh5f\u001b[0m\u001b[0;34m.\u001b[0m\u001b[0mcreate\u001b[0m\u001b[0;34m(\u001b[0m\u001b[0mname\u001b[0m\u001b[0;34m,\u001b[0m \u001b[0mh5f\u001b[0m\u001b[0;34m.\u001b[0m\u001b[0mACC_EXCL\u001b[0m\u001b[0;34m,\u001b[0m \u001b[0mfapl\u001b[0m\u001b[0;34m=\u001b[0m\u001b[0mfapl\u001b[0m\u001b[0;34m,\u001b[0m \u001b[0mfcpl\u001b[0m\u001b[0;34m=\u001b[0m\u001b[0mfcpl\u001b[0m\u001b[0;34m)\u001b[0m\u001b[0;34m\u001b[0m\u001b[0m\n\u001b[1;32m     94\u001b[0m     \u001b[0;32melif\u001b[0m \u001b[0mmode\u001b[0m \u001b[0;34m==\u001b[0m \u001b[0;34m'w'\u001b[0m\u001b[0;34m:\u001b[0m\u001b[0;34m\u001b[0m\u001b[0m\n\u001b[0;32m---> 95\u001b[0;31m         \u001b[0mfid\u001b[0m \u001b[0;34m=\u001b[0m \u001b[0mh5f\u001b[0m\u001b[0;34m.\u001b[0m\u001b[0mcreate\u001b[0m\u001b[0;34m(\u001b[0m\u001b[0mname\u001b[0m\u001b[0;34m,\u001b[0m \u001b[0mh5f\u001b[0m\u001b[0;34m.\u001b[0m\u001b[0mACC_TRUNC\u001b[0m\u001b[0;34m,\u001b[0m \u001b[0mfapl\u001b[0m\u001b[0;34m=\u001b[0m\u001b[0mfapl\u001b[0m\u001b[0;34m,\u001b[0m \u001b[0mfcpl\u001b[0m\u001b[0;34m=\u001b[0m\u001b[0mfcpl\u001b[0m\u001b[0;34m)\u001b[0m\u001b[0;34m\u001b[0m\u001b[0m\n\u001b[0m\u001b[1;32m     96\u001b[0m     \u001b[0;32melif\u001b[0m \u001b[0mmode\u001b[0m \u001b[0;34m==\u001b[0m \u001b[0;34m'a'\u001b[0m\u001b[0;34m:\u001b[0m\u001b[0;34m\u001b[0m\u001b[0m\n\u001b[1;32m     97\u001b[0m         \u001b[0;31m# Open in append mode (read/write).\u001b[0m\u001b[0;34m\u001b[0m\u001b[0;34m\u001b[0m\u001b[0m\n",
      "\u001b[0;32mh5py/_objects.pyx\u001b[0m in \u001b[0;36mh5py._objects.with_phil.wrapper (/Users/ilan/minonda/conda-bld/work/h5py/_objects.c:2579)\u001b[0;34m()\u001b[0m\n",
      "\u001b[0;32mh5py/_objects.pyx\u001b[0m in \u001b[0;36mh5py._objects.with_phil.wrapper (/Users/ilan/minonda/conda-bld/work/h5py/_objects.c:2538)\u001b[0;34m()\u001b[0m\n",
      "\u001b[0;32mh5py/h5f.pyx\u001b[0m in \u001b[0;36mh5py.h5f.create (/Users/ilan/minonda/conda-bld/work/h5py/h5f.c:1989)\u001b[0;34m()\u001b[0m\n",
      "\u001b[0;31mIOError\u001b[0m: Unable to create file (Unable to truncate a file which is already open)"
     ]
    }
   ],
   "source": [
    "reload(pbuild)\n",
    "tree = specdb.__path__[0]+'/data/privateDB'\n",
    "#pbuild.mk_db.hdf.close()\n",
    "pbuild.mk_db(tree, 'tst_db.hdf5', ztbl)"
   ]
  },
  {
   "cell_type": "code",
   "execution_count": null,
   "metadata": {
    "collapsed": true
   },
   "outputs": [],
   "source": []
  }
 ],
 "metadata": {
  "kernelspec": {
   "display_name": "Python 2",
   "language": "python",
   "name": "python2"
  },
  "language_info": {
   "codemirror_mode": {
    "name": "ipython",
    "version": 2
   },
   "file_extension": ".py",
   "mimetype": "text/x-python",
   "name": "python",
   "nbconvert_exporter": "python",
   "pygments_lexer": "ipython2",
   "version": "2.7.11"
  }
 },
 "nbformat": 4,
 "nbformat_minor": 0
}
