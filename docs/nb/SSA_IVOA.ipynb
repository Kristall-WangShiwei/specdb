{
 "cells": [
  {
   "cell_type": "markdown",
   "metadata": {},
   "source": [
    "# SSA Object for IVOA protocols (v1.1)"
   ]
  },
  {
   "cell_type": "code",
   "execution_count": 20,
   "metadata": {
    "collapsed": true
   },
   "outputs": [],
   "source": [
    "# imports\n",
    "from astropy.io.votable.tree import VOTableFile, Resource, Field, Info, Param\n",
    "from astropy.io.votable.tree import Table as voTable\n",
    "from astropy.io.votable import from_table\n",
    "\n",
    "from astropy.coordinates import SkyCoord\n",
    "\n",
    "import specdb\n",
    "from specdb import specdb as ssdb\n",
    "from specdb import ssa as spdb_ssa"
   ]
  },
  {
   "cell_type": "markdown",
   "metadata": {},
   "source": [
    "## Fiddling with QueryData and VOTables"
   ]
  },
  {
   "cell_type": "markdown",
   "metadata": {},
   "source": [
    "### Load"
   ]
  },
  {
   "cell_type": "code",
   "execution_count": 2,
   "metadata": {
    "collapsed": false
   },
   "outputs": [],
   "source": [
    "tst_file = specdb.__path__[0]+'/tests/files/IGMspec_DB_v02_debug.hdf5'"
   ]
  },
  {
   "cell_type": "code",
   "execution_count": 3,
   "metadata": {
    "collapsed": false
   },
   "outputs": [
    {
     "name": "stdout",
     "output_type": "stream",
     "text": [
      "Using /Users/xavier/local/Python/specdb/specdb/tests/files/IGMspec_DB_v02_debug.hdf5 for the DB file\n",
      "> /Users/xavier/local/Python/specdb/specdb/query_catalog.py(70)load_cat()\n",
      "-> self.cat_attr = {}\n",
      "(Pdb) hdf['catalog'].attrs.keys()\n",
      "[u'NAME', u'EPOCH', u'EQUINOX', u'SpaceFrame', u'Z_PRIORITY', u'GROUP_DICT', u'CREATION_DATE', u'VERSION', u'Publisher']\n",
      "(Pdb) c\n"
     ]
    }
   ],
   "source": [
    "reload(ssdb)\n",
    "igmsp = ssdb.IgmSpec(db_file=tst_file, verbose=True)"
   ]
  },
  {
   "cell_type": "markdown",
   "metadata": {},
   "source": [
    "### Generate VOTable"
   ]
  },
  {
   "cell_type": "code",
   "execution_count": 21,
   "metadata": {
    "collapsed": true
   },
   "outputs": [],
   "source": [
    "reload(spdb_ssa)\n",
    "ssai = spdb_ssa.SSAInterface(igmsp)"
   ]
  },
  {
   "cell_type": "code",
   "execution_count": 22,
   "metadata": {
    "collapsed": false
   },
   "outputs": [
    {
     "name": "stdout",
     "output_type": "stream",
     "text": [
      "Your search yielded 1 match[es] within radius=0.001 deg\n"
     ]
    }
   ],
   "source": [
    "votable = ssai.querydata('0.0019,17.7737', SIZE=1e-3)"
   ]
  },
  {
   "cell_type": "code",
   "execution_count": 19,
   "metadata": {
    "collapsed": true
   },
   "outputs": [],
   "source": [
    "votable.to_xml('tmp.xml')"
   ]
  },
  {
   "cell_type": "markdown",
   "metadata": {},
   "source": [
    "### Here is what it looks like\n",
    "\n",
    "    <?xml version=\"1.0\" encoding=\"utf-8\"?>\n",
    "    <!-- Produced with astropy.io.votable version 1.3\n",
    "         http://www.astropy.org/ -->\n",
    "    <VOTABLE version=\"1.2\" xmlns=\"http://www.ivoa.net/xml/VOTable/v1.2\" xmlns:xsi=\"http://www.w3.org/2001/XMLSchema-instance\" xsi:noNamespaceSchemaLocation=\"http://www.ivoa.net/xml/VOTable/v1.2\">\n",
    "     <RESOURCE type=\"results\">\n",
    "      <INFO ID=\"QUERY_STATUS\" name=\"QUERY_STATUS\" value=\"OK\"/>\n",
    "      <INFO ID=\"SERVICE_PROTOCOL\" name=\"SERVICE_PROTOCOL\" value=\"1.1\"/>\n",
    "      <INFO ID=\"REQUEST\" name=\"REQUEST\" value=\"queryData\"/>\n",
    "      <INFO ID=\"serviceName\" name=\"serviceName\" value=\"ssap\"/>\n",
    "      <INFO ID=\"POS\" name=\"POS\" value=\"0.0019,17.7737\"/>\n",
    "      <INFO ID=\"FORMAT\" name=\"FORMAT\" value=\"HDF5\"/>\n",
    "      <INFO ID=\"SIZE\" name=\"SIZE\" value=\"0.001\"/>\n",
    "      <TABLE>\n",
    "       <FIELD ID=\"flag_group\" datatype=\"long\" name=\"flag_group\"/>\n",
    "       <FIELD ID=\"sig_zem\" datatype=\"double\" name=\"sig_zem\"/>\n",
    "       <FIELD ID=\"flag_zem\" arraysize=\"10\" datatype=\"char\" name=\"flag_zem\"/>\n",
    "       <FIELD ID=\"RA\" datatype=\"double\" name=\"RA\" unit=\"deg\">\n",
    "        <DESCRIPTION>\n",
    "         Right Ascension (J2000)\n",
    "        </DESCRIPTION>\n",
    "       </FIELD>\n",
    "       <FIELD ID=\"DEC\" datatype=\"double\" name=\"DEC\" unit=\"deg\"/>\n",
    "       <FIELD ID=\"STYPE\" arraysize=\"3\" datatype=\"char\" name=\"STYPE\"/>\n",
    "       <FIELD ID=\"zem\" datatype=\"double\" name=\"zem\"/>\n",
    "       <FIELD ID=\"IGM_ID\" datatype=\"long\" name=\"IGM_ID\"/>\n",
    "       <PARAM ID=\"Publisher\" arraysize=\"*\" datatype=\"char\" name=\"Publisher\" ucd=\" meta.curation\" utype=\"ssa:Curation.Publisher\" value=\"JXP\"/>\n",
    "       <DATA>\n",
    "        <TABLEDATA>\n",
    "         <TR>\n",
    "          <TD>1</TD>\n",
    "          <TD>-1</TD>\n",
    "          <TD>BOSS_PCA </TD>\n",
    "          <TD>0.001898285183756343</TD>\n",
    "          <TD>17.773739129913793</TD>\n",
    "          <TD>QSO</TD>\n",
    "          <TD>2.3076386819650851</TD>\n",
    "          <TD>0</TD>\n",
    "         </TR>\n",
    "        </TABLEDATA>\n",
    "       </DATA>\n",
    "      </TABLE>\n",
    "     </RESOURCE>\n",
    "    </VOTABLE>"
   ]
  },
  {
   "cell_type": "markdown",
   "metadata": {
    "collapsed": true
   },
   "source": [
    "## METADATA Query"
   ]
  },
  {
   "cell_type": "code",
   "execution_count": 136,
   "metadata": {
    "collapsed": true
   },
   "outputs": [],
   "source": [
    "reload(spdb_ssa)\n",
    "ssai = spdb_ssa.SSAInterface(igmsp)"
   ]
  },
  {
   "cell_type": "code",
   "execution_count": 137,
   "metadata": {
    "collapsed": false
   },
   "outputs": [
    {
     "name": "stderr",
     "output_type": "stream",
     "text": [
      "WARNING: W03: ?:?:?: W03: Implicitly generating an ID from a name 'INPUT:SIZE' -> 'INPUT_SIZE' [astropy.io.votable.exceptions]\n",
      "WARNING: W03: ?:?:?: W03: Implicitly generating an ID from a name 'INPUT:BAND' -> 'INPUT_BAND' [astropy.io.votable.exceptions]\n",
      "WARNING: W03: ?:?:?: W03: Implicitly generating an ID from a name 'INPUT:TIME' -> 'INPUT_TIME' [astropy.io.votable.exceptions]\n",
      "WARNING: W03: ?:?:?: W03: Implicitly generating an ID from a name 'INPUT:FORMAT' -> 'INPUT_FORMAT' [astropy.io.votable.exceptions]\n"
     ]
    }
   ],
   "source": [
    "votable = ssai.querydata(FORMAT='METADATA')"
   ]
  },
  {
   "cell_type": "code",
   "execution_count": 138,
   "metadata": {
    "collapsed": false
   },
   "outputs": [],
   "source": [
    "votable.to_xml('meta.xml')"
   ]
  },
  {
   "cell_type": "markdown",
   "metadata": {},
   "source": [
    "### Here is the output:\n",
    "    <?xml version=\"1.0\" encoding=\"utf-8\"?>\n",
    "    <!-- Produced with astropy.io.votable version 1.3\n",
    "         http://www.astropy.org/ -->\n",
    "    <VOTABLE version=\"1.2\" xmlns=\"http://www.ivoa.net/xml/VOTable/v1.2\" xmlns:xsi=\"http://www.w3.org/2001/XMLSchema-instance\" xsi:noNamespaceSchemaLocation=\"http://www.ivoa.net/xml/VOTable/v1.2\">\n",
    "     <RESOURCE type=\"results\">\n",
    "      <PARAM ID=\"INPUT_SIZE\" datatype=\"double\" name=\"INPUT:SIZE\" unit=\"deg\" value=\"0.1\">\n",
    "       <DESCRIPTION>\n",
    "        The radius of the circular region of interest in decimal\n",
    "        degrees.Default sized radius is 0.001 degrees\n",
    "       </DESCRIPTION>\n",
    "      </PARAM>\n",
    "      <PARAM ID=\"INPUT_BAND\" arraysize=\"*\" datatype=\"char\" name=\"INPUT:BAND\" value=\"ALL\">\n",
    "       <DESCRIPTION>\n",
    "        Not currently implemented\n",
    "       </DESCRIPTION>\n",
    "      </PARAM>\n",
    "      <PARAM ID=\"INPUT_TIME\" arraysize=\"*\" datatype=\"char\" name=\"INPUT:TIME\" value=\"\">\n",
    "       <DESCRIPTION>\n",
    "        Not currently implemented\n",
    "       </DESCRIPTION>\n",
    "      </PARAM>\n",
    "      <PARAM ID=\"INPUT_FORMAT\" arraysize=\"*\" datatype=\"char\" name=\"INPUT:FORMAT\" value=\"ALL\">\n",
    "       <DESCRIPTION>\n",
    "        Desired format of retrieved data.  Allowed values are HDF5,\n",
    "        METADATA\n",
    "       </DESCRIPTION>\n",
    "      </PARAM>\n",
    "      <PARAM ID=\"DataModel\" arraysize=\"*\" datatype=\"char\" name=\"OUTPUT:DataModel\" utype=\"ssa:Dataset.DataModel\" value=\"\">\n",
    "       <DESCRIPTION>\n",
    "        Datamodel name and version\n",
    "       </DESCRIPTION>\n",
    "      </PARAM>\n",
    "      <PARAM ID=\"DatasetType\" arraysize=\"*\" datatype=\"char\" name=\"OUTPUT:DatasetType\" utype=\"ssa:Dataset.Type\" value=\"Spectrum\">\n",
    "       <DESCRIPTION>\n",
    "        Dataset type\n",
    "       </DESCRIPTION>\n",
    "      </PARAM>\n",
    "      <PARAM ID=\"Title\" arraysize=\"*\" datatype=\"char\" name=\"OUTPUT:Title\" ucd=\"meta.title;meta.dataset\" utype=\"ssa:DataID.Title\" value=\"\">\n",
    "       <DESCRIPTION>\n",
    "        Dataset Title\n",
    "       </DESCRIPTION>\n",
    "      </PARAM>\n",
    "      <PARAM ID=\"Instrument\" arraysize=\"*\" datatype=\"char\" name=\"OUTPUT:Instrument\" ucd=\"meta.id;instr\" utype=\"ssa:DataID.Title\" value=\"\">\n",
    "       <DESCRIPTION>\n",
    "        Instrument name\n",
    "       </DESCRIPTION>\n",
    "      </PARAM>\n",
    "      <PARAM ID=\"Publisher\" arraysize=\"*\" datatype=\"char\" name=\"OUTPUT:Publisher\" ucd=\" meta.curation\" utype=\"ssa:Curation.Publisher\" value=\"\"/>\n",
    "      <PARAM ID=\"SpaceFrameName\" arraysize=\"*\" datatype=\"char\" name=\"OUTPUT:SpaceFrameName\" utype=\"ssa:CoordSys.SpaceFrame.Name\" value=\"\">\n",
    "       <DESCRIPTION>\n",
    "        Spatial coordinate frame name\n",
    "       </DESCRIPTION>\n",
    "      </PARAM>\n",
    "      <PARAM ID=\"SpaceFrameEquinox\" datatype=\"double\" name=\"OUTPUT:SpaceFrameEquinox\" ucd=\"time.equinox;pos.frame\" unit=\"yr\" utype=\"ssa:CoordSys.SpaceFrame.Equinox\" value=\"0\"/>\n",
    "      <PARAM ID=\"FluxAxisUcd\" arraysize=\"*\" datatype=\"char\" name=\"OUTPUT:FluxAxisUcd\" utype=\"ssa:Char.FluxAxis.ucd\" value=\"\"/>\n",
    "      <PARAM ID=\"FluxAxisUnit\" arraysize=\"*\" datatype=\"char\" name=\"OUTPUT:FluxAxisUnit\" utype=\"ssa:Char.FluxAxis.unit\" value=\"\"/>\n",
    "      <PARAM ID=\"FluxAxisCalibration\" arraysize=\"*\" datatype=\"char\" name=\"OUTPUT:FluxAxisCalibration\" utype=\"ssa:Char.FluxAxis.Calibration\" value=\"\"/>\n",
    "      <PARAM ID=\"SpectralAxisUcd\" arraysize=\"*\" datatype=\"char\" name=\"OUTPUT:SpectralAxisUcd\" utype=\"ssa:Char.SpectralAxis.ucd\" value=\"\"/>\n",
    "      <PARAM ID=\"SpectralAxisUnit\" arraysize=\"*\" datatype=\"char\" name=\"OUTPUT:SpectralAxisUnit\" utype=\"ssa:Char.SpectralAxis.unit\" value=\"\"/>\n",
    "      <PARAM ID=\"TimeLocation\" datatype=\"double\" name=\"OUTPUT:TimeLocation\" ucd=\"time.epoch\" unit=\"d\" utype=\"ssa:Char.TimeAxis.Coverage.Location.Value\" value=\"0\">\n",
    "       <DESCRIPTION>\n",
    "        Estimated UT day of observations\n",
    "       </DESCRIPTION>\n",
    "      </PARAM>\n",
    "      <PARAM ID=\"SpatialLocation\" arraysize=\"2\" datatype=\"double\" name=\"OUTPUT:SpatialLocation\" ucd=\"pos.eq\" unit=\"deg\" utype=\"ssa:Char.SpatialAxis.Coverage.Location.Value\" value=\"0\">\n",
    "       <DESCRIPTION>\n",
    "        Spatial Position\n",
    "       </DESCRIPTION>\n",
    "      </PARAM>\n",
    "      <INFO ID=\"QUERY_STATUS\" name=\"QUERY_STATUS\" value=\"OK\"/>\n",
    "      <INFO ID=\"SERVICE_PROTOCOL\" name=\"SERVICE_PROTOCOL\" value=\"1.1\"/>\n",
    "     </RESOURCE>\n",
    "    </VOTABLE>\n"
   ]
  },
  {
   "cell_type": "markdown",
   "metadata": {},
   "source": [
    "----"
   ]
  },
  {
   "cell_type": "code",
   "execution_count": 127,
   "metadata": {
    "collapsed": true
   },
   "outputs": [],
   "source": [
    "reload(spdb_ssa)\n",
    "votable = spdb_ssa.empty_vo(rtype='results')\n",
    "resource = votable.resources[0]\n",
    "sinfo = Info(name='QUERY_STATUS', value=\"OK\", content=\"Successful search\")\n",
    "resource.infos.append(sinfo)"
   ]
  },
  {
   "cell_type": "code",
   "execution_count": 128,
   "metadata": {
    "collapsed": true
   },
   "outputs": [],
   "source": [
    "iparams = spdb_ssa.input_params(votable)\n",
    "for iparam in iparams:\n",
    "        resource.params.append(iparam)"
   ]
  },
  {
   "cell_type": "code",
   "execution_count": 129,
   "metadata": {
    "collapsed": true
   },
   "outputs": [],
   "source": [
    "output_params, _, _ = spdb_ssa.metaquery_param(votable)"
   ]
  },
  {
   "cell_type": "code",
   "execution_count": 130,
   "metadata": {
    "collapsed": true
   },
   "outputs": [],
   "source": [
    "for ii in range(len(output_params)):\n",
    "    resource.params.append(output_params[ii])"
   ]
  },
  {
   "cell_type": "code",
   "execution_count": 131,
   "metadata": {
    "collapsed": false
   },
   "outputs": [],
   "source": [
    "votable.to_xml('meta.xml')"
   ]
  },
  {
   "cell_type": "code",
   "execution_count": null,
   "metadata": {
    "collapsed": true
   },
   "outputs": [],
   "source": []
  }
 ],
 "metadata": {
  "kernelspec": {
   "display_name": "Python 2",
   "language": "python",
   "name": "python2"
  },
  "language_info": {
   "codemirror_mode": {
    "name": "ipython",
    "version": 2
   },
   "file_extension": ".py",
   "mimetype": "text/x-python",
   "name": "python",
   "nbconvert_exporter": "python",
   "pygments_lexer": "ipython2",
   "version": "2.7.11"
  }
 },
 "nbformat": 4,
 "nbformat_minor": 0
}
