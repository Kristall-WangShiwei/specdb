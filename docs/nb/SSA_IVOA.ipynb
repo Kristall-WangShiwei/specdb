{
 "cells": [
  {
   "cell_type": "markdown",
   "metadata": {},
   "source": [
    "# SSA Object for IVOA protocols"
   ]
  },
  {
   "cell_type": "code",
   "execution_count": 70,
   "metadata": {
    "collapsed": true
   },
   "outputs": [],
   "source": [
    "# imports\n",
    "from astropy.io.votable.tree import VOTableFile, Resource, Field, Info, Param\n",
    "from astropy.io.votable.tree import Table as voTable\n",
    "from astropy.io.votable import from_table\n",
    "\n",
    "from astropy.coordinates import SkyCoord\n",
    "\n",
    "import specdb\n",
    "from specdb.specdb import IgmSpec\n",
    "from specdb import ssa as sssa"
   ]
  },
  {
   "cell_type": "markdown",
   "metadata": {},
   "source": [
    "## Fiddling with QueryData and VOTables"
   ]
  },
  {
   "cell_type": "markdown",
   "metadata": {},
   "source": [
    "### Load"
   ]
  },
  {
   "cell_type": "code",
   "execution_count": 5,
   "metadata": {
    "collapsed": false
   },
   "outputs": [],
   "source": [
    "tst_file = specdb.__path__[0]+'/tests/files/IGMspec_DB_v02_debug.hdf5'"
   ]
  },
  {
   "cell_type": "code",
   "execution_count": 11,
   "metadata": {
    "collapsed": false
   },
   "outputs": [],
   "source": [
    "igmsp = IgmSpec(dbfile=tst_file)"
   ]
  },
  {
   "cell_type": "markdown",
   "metadata": {},
   "source": [
    "### Generate VOTable"
   ]
  },
  {
   "cell_type": "code",
   "execution_count": 90,
   "metadata": {
    "collapsed": true
   },
   "outputs": [],
   "source": [
    "reload(sssa)\n",
    "ssa = sssa.SSAInterface(igmsp)"
   ]
  },
  {
   "cell_type": "code",
   "execution_count": 91,
   "metadata": {
    "collapsed": false
   },
   "outputs": [
    {
     "name": "stdout",
     "output_type": "stream",
     "text": [
      "Your search yielded 1 match[es] within radius=0.001 deg\n"
     ]
    }
   ],
   "source": [
    "votable = ssa.querydata('0.0019,17.7737', SIZE=1e-3)"
   ]
  },
  {
   "cell_type": "code",
   "execution_count": 92,
   "metadata": {
    "collapsed": true
   },
   "outputs": [],
   "source": [
    "votable.to_xml('tmp.xml')"
   ]
  },
  {
   "cell_type": "markdown",
   "metadata": {},
   "source": [
    "### Here is what it looks like\n",
    "\n",
    "    <?xml version=\"1.0\" encoding=\"utf-8\"?>\n",
    "    <!-- Produced with astropy.io.votable version 1.3\n",
    "         http://www.astropy.org/ -->\n",
    "    <VOTABLE version=\"1.2\" xmlns=\"http://www.ivoa.net/xml/VOTable/v1.2\" xmlns:xsi=\"http://www.w3.org/2001/XMLSchema-instance\" xsi:noNamespaceSchemaLocation=\"http://www.ivoa.net/xml/VOTable/v1.2\">\n",
    "     <RESOURCE type=\"results\">\n",
    "      <INFO ID=\"QUERY_STATUS\" name=\"QUERY_STATUS\" value=\"OK\"/>\n",
    "      <INFO ID=\"SERVICE_PROTOCOL\" name=\"SERVICE_PROTOCOL\" value=\"1.1\"/>\n",
    "      <INFO ID=\"REQUEST\" name=\"REQUEST\" value=\"queryData\"/>\n",
    "      <INFO ID=\"serviceName\" name=\"serviceName\" value=\"ssap\"/>\n",
    "      <INFO ID=\"POS\" name=\"POS\" value=\"0.0019,17.7737\"/>\n",
    "      <INFO ID=\"FORMAT\" name=\"FORMAT\" value=\"HDF5\"/>\n",
    "      <INFO ID=\"SIZE\" name=\"SIZE\" value=\"0.001\"/>\n",
    "      <TABLE>\n",
    "       <FIELD ID=\"flag_group\" datatype=\"long\" name=\"flag_group\"/>\n",
    "       <FIELD ID=\"sig_zem\" datatype=\"double\" name=\"sig_zem\"/>\n",
    "       <FIELD ID=\"flag_zem\" arraysize=\"10\" datatype=\"char\" name=\"flag_zem\"/>\n",
    "       <FIELD ID=\"RA\" datatype=\"double\" name=\"RA\" unit=\"deg\">\n",
    "        <DESCRIPTION>\n",
    "         Right Ascension (J2000)\n",
    "        </DESCRIPTION>\n",
    "       </FIELD>\n",
    "       <FIELD ID=\"DEC\" datatype=\"double\" name=\"DEC\" unit=\"deg\"/>\n",
    "       <FIELD ID=\"STYPE\" arraysize=\"3\" datatype=\"char\" name=\"STYPE\"/>\n",
    "       <FIELD ID=\"zem\" datatype=\"double\" name=\"zem\"/>\n",
    "       <FIELD ID=\"IGM_ID\" datatype=\"long\" name=\"IGM_ID\"/>\n",
    "       <PARAM ID=\"Publisher\" arraysize=\"*\" datatype=\"char\" name=\"Publisher\" ucd=\" meta.curation\" utype=\"ssa:Curation.Publisher\" value=\"JXP\"/>\n",
    "       <DATA>\n",
    "        <TABLEDATA>\n",
    "         <TR>\n",
    "          <TD>1</TD>\n",
    "          <TD>-1</TD>\n",
    "          <TD>BOSS_PCA </TD>\n",
    "          <TD>0.001898285183756343</TD>\n",
    "          <TD>17.773739129913793</TD>\n",
    "          <TD>QSO</TD>\n",
    "          <TD>2.3076386819650851</TD>\n",
    "          <TD>0</TD>\n",
    "         </TR>\n",
    "        </TABLEDATA>\n",
    "       </DATA>\n",
    "      </TABLE>\n",
    "     </RESOURCE>\n",
    "    </VOTABLE>"
   ]
  },
  {
   "cell_type": "code",
   "execution_count": null,
   "metadata": {
    "collapsed": true
   },
   "outputs": [],
   "source": []
  }
 ],
 "metadata": {
  "kernelspec": {
   "display_name": "Python 2",
   "language": "python",
   "name": "python2"
  },
  "language_info": {
   "codemirror_mode": {
    "name": "ipython",
    "version": 2
   },
   "file_extension": ".py",
   "mimetype": "text/x-python",
   "name": "python",
   "nbconvert_exporter": "python",
   "pygments_lexer": "ipython2",
   "version": "2.7.11"
  }
 },
 "nbformat": 4,
 "nbformat_minor": 0
}
