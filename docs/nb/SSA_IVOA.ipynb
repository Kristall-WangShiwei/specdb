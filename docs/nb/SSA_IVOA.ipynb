{
 "cells": [
  {
   "cell_type": "markdown",
   "metadata": {},
   "source": [
    "# SSA Object for IVOA protocols"
   ]
  },
  {
   "cell_type": "code",
   "execution_count": 70,
   "metadata": {
    "collapsed": true
   },
   "outputs": [],
   "source": [
    "# imports\n",
    "from astropy.io.votable.tree import VOTableFile, Resource, Field, Info, Param\n",
    "from astropy.io.votable.tree import Table as voTable\n",
    "from astropy.io.votable import from_table\n",
    "\n",
    "from astropy.coordinates import SkyCoord\n",
    "\n",
    "import specdb\n",
    "from specdb.specdb import IgmSpec\n",
    "from specdb import ssa as sssa"
   ]
  },
  {
   "cell_type": "markdown",
   "metadata": {},
   "source": [
    "## Fiddling with QueryData and VOTables"
   ]
  },
  {
   "cell_type": "markdown",
   "metadata": {},
   "source": [
    "### Load"
   ]
  },
  {
   "cell_type": "code",
   "execution_count": 5,
   "metadata": {
    "collapsed": false
   },
   "outputs": [],
   "source": [
    "tst_file = specdb.__path__[0]+'/tests/files/IGMspec_DB_v02_debug.hdf5'"
   ]
  },
  {
   "cell_type": "code",
   "execution_count": 11,
   "metadata": {
    "collapsed": false
   },
   "outputs": [],
   "source": [
    "igmsp = IgmSpec(dbfile=tst_file)"
   ]
  },
  {
   "cell_type": "markdown",
   "metadata": {},
   "source": [
    "### Generate VOTable"
   ]
  },
  {
   "cell_type": "code",
   "execution_count": 73,
   "metadata": {
    "collapsed": true
   },
   "outputs": [],
   "source": [
    "reload(sssa)\n",
    "ssa = sssa.SSAInterface(igmsp)"
   ]
  },
  {
   "cell_type": "code",
   "execution_count": 74,
   "metadata": {
    "collapsed": false
   },
   "outputs": [
    {
     "name": "stdout",
     "output_type": "stream",
     "text": [
      "Your search yielded 1 match[es] within radius=0.001 deg\n"
     ]
    }
   ],
   "source": [
    "votable = ssa.querydata('0.0019,17.7737', SIZE=1e-3)"
   ]
  },
  {
   "cell_type": "code",
   "execution_count": 75,
   "metadata": {
    "collapsed": true
   },
   "outputs": [],
   "source": [
    "votable.to_xml('tmp.xml')"
   ]
  },
  {
   "cell_type": "markdown",
   "metadata": {},
   "source": [
    "### Fiddle"
   ]
  },
  {
   "cell_type": "code",
   "execution_count": 35,
   "metadata": {
    "collapsed": false
   },
   "outputs": [
    {
     "name": "stdout",
     "output_type": "stream",
     "text": [
      "Your search yielded 1 matches from 1 input coordinates\n"
     ]
    },
    {
     "data": {
      "text/html": [
       "&lt;Table length=1&gt;\n",
       "<table id=\"table4666784016\" class=\"table-striped table-bordered table-condensed\">\n",
       "<thead><tr><th>flag_group</th><th>sig_zem</th><th>flag_zem</th><th>RA</th><th>DEC</th><th>STYPE</th><th>zem</th><th>IGM_ID</th></tr></thead>\n",
       "<thead><tr><th></th><th></th><th></th><th>deg</th><th></th><th></th><th></th><th></th></tr></thead>\n",
       "<thead><tr><th>int64</th><th>float64</th><th>str10</th><th>float64</th><th>float64</th><th>str3</th><th>float64</th><th>int64</th></tr></thead>\n",
       "<tr><td>1</td><td>-1.0</td><td>BOSS_PCA</td><td>0.00189828518376</td><td>17.7737391299</td><td>QSO</td><td>2.30763868197</td><td>0</td></tr>\n",
       "</table>"
      ],
      "text/plain": [
       "<Table length=1>\n",
       "flag_group sig_zem  flag_zem        RA        ... STYPE      zem      IGM_ID\n",
       "                                   deg        ...                           \n",
       "  int64    float64   str10       float64      ...  str3    float64    int64 \n",
       "---------- ------- --------- ---------------- ... ----- ------------- ------\n",
       "         1    -1.0 BOSS_PCA  0.00189828518376 ...   QSO 2.30763868197      0"
      ]
     },
     "execution_count": 35,
     "metadata": {},
     "output_type": "execute_result"
    }
   ],
   "source": [
    "coord = SkyCoord(ra=0.0019, dec=17.7737, unit='deg')\n",
    "subcat = igmsp.qcat.cat_from_coords(coord)\n",
    "subcat['RA'].unit = u.deg\n",
    "subcat"
   ]
  },
  {
   "cell_type": "code",
   "execution_count": 77,
   "metadata": {
    "collapsed": false
   },
   "outputs": [
    {
     "data": {
      "text/plain": [
       "1"
      ]
     },
     "execution_count": 77,
     "metadata": {},
     "output_type": "execute_result"
    }
   ],
   "source": [
    "len(votable.resources[0].tables)"
   ]
  },
  {
   "cell_type": "code",
   "execution_count": 53,
   "metadata": {
    "collapsed": true
   },
   "outputs": [],
   "source": [
    "#votable = from_table(subcat)\n",
    "votable = VOTableFile()"
   ]
  },
  {
   "cell_type": "code",
   "execution_count": 55,
   "metadata": {
    "collapsed": true
   },
   "outputs": [],
   "source": [
    "resource = Resource(type=\"results\")\n",
    "votable.resources.append(resource)"
   ]
  },
  {
   "cell_type": "code",
   "execution_count": 56,
   "metadata": {
    "collapsed": false
   },
   "outputs": [],
   "source": [
    "status_info = Info(name='QUERY_STATUS', value='OK')"
   ]
  },
  {
   "cell_type": "code",
   "execution_count": 57,
   "metadata": {
    "collapsed": false
   },
   "outputs": [],
   "source": [
    "votable.resources[0].infos.append(status_info)"
   ]
  },
  {
   "cell_type": "code",
   "execution_count": 61,
   "metadata": {
    "collapsed": false
   },
   "outputs": [],
   "source": [
    "votable.resources[0].tables.append(voTable(subcat))"
   ]
  },
  {
   "cell_type": "code",
   "execution_count": 62,
   "metadata": {
    "collapsed": true
   },
   "outputs": [],
   "source": [
    "votable.to_xml('tmp.xml')"
   ]
  },
  {
   "cell_type": "code",
   "execution_count": 63,
   "metadata": {
    "collapsed": false
   },
   "outputs": [],
   "source": [
    "tbl = votable.resources[0].tables[0]"
   ]
  },
  {
   "cell_type": "code",
   "execution_count": 45,
   "metadata": {
    "collapsed": false
   },
   "outputs": [],
   "source": [
    "pub_param = Param(tbl, name=\"Publisher\", utype=\"ssa:Curation.Publisher\", ucd=\" meta.curation\", datatype=\"char\", arraysize=\"*\", value=\"JXP\")"
   ]
  },
  {
   "cell_type": "code",
   "execution_count": 46,
   "metadata": {
    "collapsed": false
   },
   "outputs": [
    {
     "data": {
      "text/plain": [
       "<PARAM ID=\"Publisher\" arraysize=\"*\" datatype=\"char\" name=\"Publisher\" ucd=\" meta.curation\" utype=\"ssa:Curation.Publisher\" value=\"JXP\"/>"
      ]
     },
     "execution_count": 46,
     "metadata": {},
     "output_type": "execute_result"
    }
   ],
   "source": [
    "pub_param"
   ]
  },
  {
   "cell_type": "code",
   "execution_count": 47,
   "metadata": {
    "collapsed": true
   },
   "outputs": [],
   "source": [
    "tbl.params.append(pub_param)"
   ]
  },
  {
   "cell_type": "code",
   "execution_count": 49,
   "metadata": {
    "collapsed": true
   },
   "outputs": [],
   "source": [
    "pub_param.description = \"Here is a dummy desc\""
   ]
  },
  {
   "cell_type": "code",
   "execution_count": 51,
   "metadata": {
    "collapsed": true
   },
   "outputs": [],
   "source": [
    "votable.resources[0].description = \"igmspec query\""
   ]
  },
  {
   "cell_type": "code",
   "execution_count": 64,
   "metadata": {
    "collapsed": false
   },
   "outputs": [
    {
     "data": {
      "text/plain": [
       "<Table length=0>\n",
       "<No columns>"
      ]
     },
     "execution_count": 64,
     "metadata": {},
     "output_type": "execute_result"
    }
   ],
   "source": [
    "voTable(subcat)"
   ]
  },
  {
   "cell_type": "code",
   "execution_count": 65,
   "metadata": {
    "collapsed": false
   },
   "outputs": [
    {
     "data": {
      "text/html": [
       "&lt;Table length=1&gt;\n",
       "<table id=\"table4666784016\" class=\"table-striped table-bordered table-condensed\">\n",
       "<thead><tr><th>flag_group</th><th>sig_zem</th><th>flag_zem</th><th>RA</th><th>DEC</th><th>STYPE</th><th>zem</th><th>IGM_ID</th></tr></thead>\n",
       "<thead><tr><th></th><th></th><th></th><th>deg</th><th></th><th></th><th></th><th></th></tr></thead>\n",
       "<thead><tr><th>int64</th><th>float64</th><th>str10</th><th>float64</th><th>float64</th><th>str3</th><th>float64</th><th>int64</th></tr></thead>\n",
       "<tr><td>1</td><td>-1.0</td><td>BOSS_PCA</td><td>0.00189828518376</td><td>17.7737391299</td><td>QSO</td><td>2.30763868197</td><td>0</td></tr>\n",
       "</table>"
      ],
      "text/plain": [
       "<Table length=1>\n",
       "flag_group sig_zem  flag_zem        RA        ... STYPE      zem      IGM_ID\n",
       "                                   deg        ...                           \n",
       "  int64    float64   str10       float64      ...  str3    float64    int64 \n",
       "---------- ------- --------- ---------------- ... ----- ------------- ------\n",
       "         1    -1.0 BOSS_PCA  0.00189828518376 ...   QSO 2.30763868197      0"
      ]
     },
     "execution_count": 65,
     "metadata": {},
     "output_type": "execute_result"
    }
   ],
   "source": [
    "subcat"
   ]
  },
  {
   "cell_type": "code",
   "execution_count": null,
   "metadata": {
    "collapsed": true
   },
   "outputs": [],
   "source": []
  }
 ],
 "metadata": {
  "kernelspec": {
   "display_name": "Python 2",
   "language": "python",
   "name": "python2"
  },
  "language_info": {
   "codemirror_mode": {
    "name": "ipython",
    "version": 2
   },
   "file_extension": ".py",
   "mimetype": "text/x-python",
   "name": "python",
   "nbconvert_exporter": "python",
   "pygments_lexer": "ipython2",
   "version": "2.7.11"
  }
 },
 "nbformat": 4,
 "nbformat_minor": 0
}
